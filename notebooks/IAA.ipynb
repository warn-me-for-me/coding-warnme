{
 "cells": [
  {
   "cell_type": "code",
   "execution_count": 1,
   "metadata": {},
   "outputs": [
    {
     "data": {
      "text/plain": [
       "(310, 26)"
      ]
     },
     "execution_count": 1,
     "metadata": {},
     "output_type": "execute_result"
    }
   ],
   "source": [
    "import pandas as pd\n",
    "from pathlib import Path\n",
    "import sys\n",
    "sys.path.append('..')  # This moves one directory up in the directory structure\n",
    "from utils.code_party_utils import calculate_fleiss_kappa, select_highest_agreement_code\n",
    "\n",
    "# Open raw data with individual annotations \n",
    "df_path = Path.cwd().parent / 'data' / 'warnme-codeparty-raw.csv'\n",
    "df = pd.read_csv(df_path)\n",
    "df = df.rename(columns={\"Unnamed: 0\": \"\"}).set_index(\"\")\n",
    "\n",
    "# Slice for IAA \n",
    "df_IAA = df.iloc[105:205, :]\n",
    "df.shape # For debugging "
   ]
  },
  {
   "cell_type": "markdown",
   "metadata": {},
   "source": [
    "## Calculate Inner-Annotator Agreement "
   ]
  },
  {
   "cell_type": "code",
   "execution_count": 5,
   "metadata": {},
   "outputs": [
    {
     "name": "stdout",
     "output_type": "stream",
     "text": [
      "LOC Fleiss' kappa: 0.4625645019959108\n",
      "DES Fleiss' kappa: 0.4471799187038619\n",
      "PV Fleiss' kappa: 0.4517692105867306\n",
      "PS Fleiss' kappa: 0.6054570870302552\n",
      "\n",
      "Weighted Average Fleiss' kappa: 0.4828301274041241\n"
     ]
    }
   ],
   "source": [
    "# 100 codes that all 4 annotators have annotated\n",
    "loc_columns = ['LOC_D', 'LOC_S', 'LOC_E', 'LOC_C']\n",
    "des_columns = ['DES1_D', 'DES1_S', 'DES1_E', 'DES1_C','DES2_D', 'DES2_S', 'DES2_E', 'DES2_C']\n",
    "pv_columns = ['PV_D', 'PV_S', 'PV_E', 'PV_C']\n",
    "ps_columns = ['PS_D', 'PS_S', 'PS_E', 'PS_C']\n",
    "\n",
    "loc_kappa = calculate_fleiss_kappa(df_IAA,loc_columns)\n",
    "des_kappa = calculate_fleiss_kappa(df_IAA,des_columns)\n",
    "ps_kappa = calculate_fleiss_kappa(df_IAA,ps_columns)\n",
    "pv_kappa = calculate_fleiss_kappa(df_IAA,pv_columns)\n",
    "\n",
    "print(f\"LOC Fleiss' kappa: {loc_kappa}\")\n",
    "print(f\"DES Fleiss' kappa: {des_kappa}\")\n",
    "print(f\"PV Fleiss' kappa: {pv_kappa}\")\n",
    "print(f\"PS Fleiss' kappa: {ps_kappa}\")\n",
    "\n",
    "# Weighted average calculation\n",
    "total_codes = 3 * 1 + 2  # 3 single-column codes (LOC, PV, PS) and 2 columns for DES\n",
    "weighted_avg_kappa = (loc_kappa + pv_kappa + ps_kappa + 2 * des_kappa) / total_codes\n",
    "\n",
    "print(\"\\nWeighted Average Fleiss' kappa:\", weighted_avg_kappa)"
   ]
  },
  {
   "cell_type": "markdown",
   "metadata": {},
   "source": [
    "## Select Codes with Highest Agreement"
   ]
  },
  {
   "cell_type": "code",
   "execution_count": 3,
   "metadata": {},
   "outputs": [
    {
     "data": {
      "text/plain": [
       "(310, 5)"
      ]
     },
     "execution_count": 3,
     "metadata": {},
     "output_type": "execute_result"
    }
   ],
   "source": [
    "# Highest Agreement Codes\n",
    "LOC_df = select_highest_agreement_code(df, loc_columns, \"LOC\")\n",
    "PS_df = select_highest_agreement_code(LOC_df, ps_columns, \"PS\")\n",
    "PV_df = select_highest_agreement_code(PS_df, pv_columns, \"PV\")\n",
    "new_df = select_highest_agreement_code(PV_df, des_columns, \"DES1\", \"DES2\")\n",
    "new_df = new_df.filter(regex='_all$')\n",
    "\n",
    "new_df.shape # Confirm # of rows matches original"
   ]
  },
  {
   "cell_type": "code",
   "execution_count": 32,
   "metadata": {},
   "outputs": [],
   "source": [
    "# Combine highest agreement codes with original data\n",
    "final_df = pd.concat([df.iloc[:, :6], new_df], axis=1)\n",
    "# Export to CSV for further analysis\n",
    "final_df.to_csv(Path.cwd().parent / 'data' / 'warnme-codeparty-all.csv')"
   ]
  },
  {
   "cell_type": "code",
   "execution_count": null,
   "metadata": {},
   "outputs": [],
   "source": []
  }
 ],
 "metadata": {
  "kernelspec": {
   "display_name": "base",
   "language": "python",
   "name": "python3"
  },
  "language_info": {
   "codemirror_mode": {
    "name": "ipython",
    "version": 3
   },
   "file_extension": ".py",
   "mimetype": "text/x-python",
   "name": "python",
   "nbconvert_exporter": "python",
   "pygments_lexer": "ipython3",
   "version": "3.11.4"
  }
 },
 "nbformat": 4,
 "nbformat_minor": 2
}
